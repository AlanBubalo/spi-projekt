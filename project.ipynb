{
 "cells": [
  {
   "cell_type": "markdown",
   "metadata": {},
   "source": [
    "# Projekt iz SPI"
   ]
  },
  {
   "cell_type": "markdown",
   "metadata": {},
   "source": [
    "## Checkpoint 1 za 09.03.2023:\n",
    "\n",
    "Odabrati skup podataka i napraviti osnovnu analizu podataka u pythonu\n",
    "\n",
    "Odabran skup podataka: **Ali Express Data**\n",
    "\n",
    "Link na dataset: https://www.kaggle.com/datasets/abdullahbuzaid/ali-express-data?select=raw_csv.csv\n",
    "\n",
    "Osnovna analiza podataka:\n",
    "\n",
    "- učitati iz csv u dataframe (pandas)\n",
    "- pregled prvih 5 redaka\n",
    "- veličina skupa\n",
    "- nazivi stupaca\n",
    "- broj nedostajućih vrijednosti po stupcu (.isna)\n",
    "- jedinstvene vrijednosti (.unique())\n",
    "- ispis tipova podataka (.dtypes)\n",
    "- frekvencije vrijednosti po stupcu (petlja, data[column].value_counts())\n",
    "\n",
    "Pitanja:\n",
    "\n",
    "1. Da li je skup podataka dovoljno velik?\n",
    "2. Da li skup ima dovoljno različite podatke?\n",
    "3. Da li skup ima vremensku dimenziju?\n",
    "4. Da li skup ima kvantitativne i kvalitativne podatke?\n",
    "5. Da li skup ima puno nedostajućih vrijednosti?\n",
    "\n",
    "Skup, rezultate analize i odgovore na pitanja kratko prezentirati (5 min.) na vježbama 09.03."
   ]
  },
  {
   "cell_type": "markdown",
   "metadata": {},
   "source": [
    "### Instalacija paketa"
   ]
  },
  {
   "cell_type": "code",
   "execution_count": 1,
   "metadata": {},
   "outputs": [],
   "source": [
    "#import numpy as np\n",
    "import pandas as pd\n",
    "#from matplotlib import pyplot as plt\n",
    "#from collections import Counter"
   ]
  },
  {
   "cell_type": "markdown",
   "metadata": {},
   "source": [
    "### Učitavanje dataseta u dataframe"
   ]
  },
  {
   "cell_type": "code",
   "execution_count": 2,
   "metadata": {},
   "outputs": [],
   "source": [
    "df = pd.read_csv('ali_express_data.csv')"
   ]
  },
  {
   "cell_type": "markdown",
   "metadata": {},
   "source": [
    "### Pregled prvih 5 redaka"
   ]
  },
  {
   "cell_type": "code",
   "execution_count": 3,
   "metadata": {},
   "outputs": [],
   "source": [
    "df.head()"
   ]
  },
  {
   "cell_type": "markdown",
   "metadata": {},
   "source": [
    "### Veličina skupa\n"
   ]
  },
  {
   "cell_type": "code",
   "execution_count": 4,
   "metadata": {},
   "outputs": [],
   "source": [
    "df.shape"
   ]
  },
  {
   "cell_type": "markdown",
   "metadata": {},
   "source": [
    "### Nazivi stupaca"
   ]
  },
  {
   "cell_type": "code",
   "execution_count": 5,
   "metadata": {},
   "outputs": [],
   "source": [
    "list(df.columns)"
   ]
  },
  {
   "cell_type": "markdown",
   "metadata": {},
   "source": [
    "### Broj nedostajućih vrijednosti po stupcu"
   ]
  },
  {
   "cell_type": "code",
   "execution_count": 6,
   "metadata": {},
   "outputs": [],
   "source": [
    "df.isna().sum()"
   ]
  },
  {
   "cell_type": "markdown",
   "metadata": {},
   "source": [
    "### Jedinstvene vrijednosti"
   ]
  },
  {
   "cell_type": "code",
   "execution_count": 7,
   "metadata": {},
   "outputs": [],
   "source": [
    "cols_unique_num = {col: len(df[col].unique()) for col in df.columns}\n",
    "cols_unique_num"
   ]
  },
  {
   "cell_type": "markdown",
   "metadata": {},
   "source": [
    "### Tipovi podataka"
   ]
  },
  {
   "cell_type": "code",
   "execution_count": 8,
   "metadata": {},
   "outputs": [],
   "source": [
    "df.dtypes"
   ]
  },
  {
   "cell_type": "markdown",
   "metadata": {},
   "source": [
    "### Frekvencije vrijednosti po stupcu"
   ]
  },
  {
   "cell_type": "code",
   "execution_count": 9,
   "metadata": {},
   "outputs": [],
   "source": [
    "value_counts = [df[col].value_counts() for col in df.columns]\n",
    "value_counts"
   ]
  },
  {
   "cell_type": "markdown",
   "metadata": {},
   "source": [
    "### Pitanja\n",
    "\n",
    "1. Da li je skup podataka dovoljno velik?\n",
    "\n",
    "2. Da li skup ima dovoljno različite podatke?\n",
    "\n",
    "3. Da li skup ima vremensku dimenziju?\n",
    "\n",
    "4. Da li skup ima kvantitativne i kvalitativne podatke?\n",
    "\n",
    "5. Da li skup ima puno nedostajućih vrijednosti?\n"
   ]
  }
 ],
 "metadata": {
  "kernelspec": {
   "display_name": "Python 3 (ipykernel)",
   "language": "python",
   "name": "python3"
  },
  "language_info": {
   "codemirror_mode": {
    "name": "ipython",
    "version": 3
   },
   "file_extension": ".py",
   "mimetype": "text/x-python",
   "name": "python",
   "nbconvert_exporter": "python",
   "pygments_lexer": "ipython3",
   "version": "3.11.2"
  },
  "vscode": {
   "interpreter": {
    "hash": "ef94c23a5ffd53bfd5316d326e07378923059d6ea017ec761d66424469a6b96c"
   }
  }
 },
 "nbformat": 4,
 "nbformat_minor": 2
}
